{
 "cells": [
  {
   "cell_type": "code",
   "execution_count": 1,
   "metadata": {},
   "outputs": [],
   "source": [
    "from __future__ import print_function, division\n",
    "\n",
    "import numpy as np\n",
    "import pandas as pd\n",
    "import json, os, csv, shutil\n",
    "from glob import glob\n",
    "import matplotlib.pyplot as plt"
   ]
  },
  {
   "cell_type": "code",
   "execution_count": 2,
   "metadata": {},
   "outputs": [
    {
     "name": "stderr",
     "output_type": "stream",
     "text": [
      "Using TensorFlow backend.\n"
     ]
    }
   ],
   "source": [
    "import keras\n",
    "from keras.models import Sequential, Model\n",
    "from keras.layers import Conv2D, MaxPooling2D\n",
    "from keras.layers import Dense, Dropout, Lambda, Activation, Flatten, Input\n",
    "from keras.preprocessing.image import ImageDataGenerator\n",
    "from keras.optimizers import Adam, RMSprop, SGD\n",
    "from keras.utils import np_utils\n",
    "\n",
    "import h5py\n",
    "import cv2\n",
    "import PIL\n",
    "from PIL import Image"
   ]
  },
  {
   "cell_type": "code",
   "execution_count": 3,
   "metadata": {},
   "outputs": [],
   "source": [
    "path = 'data/'"
   ]
  },
  {
   "cell_type": "code",
   "execution_count": 4,
   "metadata": {},
   "outputs": [],
   "source": [
    "batch_size = 24"
   ]
  },
  {
   "cell_type": "markdown",
   "metadata": {},
   "source": [
    "# Data preprocessing"
   ]
  },
  {
   "cell_type": "code",
   "execution_count": 5,
   "metadata": {},
   "outputs": [
    {
     "data": {
      "text/plain": [
       "['YFT', 'ALB', 'NoF', 'SHARK', 'BET', 'DOL', 'LAG', 'OTHER']"
      ]
     },
     "execution_count": 5,
     "metadata": {},
     "output_type": "execute_result"
    }
   ],
   "source": [
    "dir_names = os.listdir(os.path.join(path, 'train/'))\n",
    "dir_names"
   ]
  },
  {
   "cell_type": "code",
   "execution_count": 6,
   "metadata": {},
   "outputs": [],
   "source": [
    "dir_dict = {}\n",
    "\n",
    "for i in range(len(dir_names)):\n",
    "    dir_dict[dir_names[i]] = i"
   ]
  },
  {
   "cell_type": "code",
   "execution_count": 7,
   "metadata": {},
   "outputs": [
    {
     "data": {
      "text/plain": [
       "{'ALB': 1,\n",
       " 'BET': 4,\n",
       " 'DOL': 5,\n",
       " 'LAG': 6,\n",
       " 'NoF': 2,\n",
       " 'OTHER': 7,\n",
       " 'SHARK': 3,\n",
       " 'YFT': 0}"
      ]
     },
     "execution_count": 7,
     "metadata": {},
     "output_type": "execute_result"
    }
   ],
   "source": [
    "dir_dict"
   ]
  },
  {
   "cell_type": "code",
   "execution_count": 8,
   "metadata": {},
   "outputs": [],
   "source": [
    "X_train = []\n",
    "y_train = []\n",
    "trn_size = []\n",
    "trn_filename = []"
   ]
  },
  {
   "cell_type": "code",
   "execution_count": 9,
   "metadata": {},
   "outputs": [],
   "source": [
    "for folder in os.listdir(path + 'train/'):\n",
    "    for file in os.listdir(path + 'train/' + folder + '/'):\n",
    "        if os.path.isfile(path + 'train/' + folder + '/' + file):\n",
    "            \n",
    "            input_img = cv2.imread(path + 'train/' + folder + '/' + file)\n",
    "            height, width, channel = input_img.shape\n",
    "            input_img = cv2.resize(input_img, (224, 224))\n",
    "            X_train.append(input_img)\n",
    "            \n",
    "            y_cat = np_utils.to_categorical(dir_dict[folder], 8) # 8 represent number of class\n",
    "            y_train.append(y_cat)\n",
    "            \n",
    "            trn_size.append([width, height])\n",
    "            trn_filename.append(file)"
   ]
  },
  {
   "cell_type": "code",
   "execution_count": 10,
   "metadata": {},
   "outputs": [],
   "source": [
    "X_train = np.asarray(X_train)\n",
    "y_train = np.asarray(y_train)"
   ]
  },
  {
   "cell_type": "code",
   "execution_count": 11,
   "metadata": {},
   "outputs": [
    {
     "name": "stdout",
     "output_type": "stream",
     "text": [
      "(3025, 224, 224, 3)\n",
      "(3025, 8)\n",
      "[[1280, 720], [1280, 750], [1280, 974], [1280, 720], [1280, 974]]\n",
      "['img_04942.jpg', 'img_05676.jpg', 'img_01087.jpg', 'img_00436.jpg', 'img_07233.jpg']\n"
     ]
    }
   ],
   "source": [
    "print(X_train.shape)\n",
    "print(y_train.shape)\n",
    "print(trn_size[0:5])\n",
    "print(trn_filename[0:5])"
   ]
  },
  {
   "cell_type": "code",
   "execution_count": 12,
   "metadata": {},
   "outputs": [
    {
     "data": {
      "text/plain": [
       "array([ 1.,  0.,  0.,  0.,  0.,  0.,  0.,  0.])"
      ]
     },
     "execution_count": 12,
     "metadata": {},
     "output_type": "execute_result"
    }
   ],
   "source": [
    "y_train[466]"
   ]
  },
  {
   "cell_type": "code",
   "execution_count": 13,
   "metadata": {},
   "outputs": [],
   "source": [
    "X_valid = []\n",
    "y_valid = []\n",
    "val_size = []\n",
    "val_filename = []"
   ]
  },
  {
   "cell_type": "code",
   "execution_count": 14,
   "metadata": {},
   "outputs": [],
   "source": [
    "for folder in os.listdir(path + 'valid/'):\n",
    "    for file in os.listdir(path + 'valid/' + folder + '/'):\n",
    "        if os.path.isfile(path + 'valid/' + folder + '/' + file):\n",
    "            \n",
    "            input_img = cv2.imread(path + 'valid/' + folder + '/' + file)\n",
    "            height, width, channel = input_img.shape\n",
    "            input_img = cv2.resize(input_img, (224, 224))\n",
    "            X_valid.append(input_img)\n",
    "            \n",
    "            y_cat = np_utils.to_categorical(dir_dict[folder], 8) # 8 represent number of class\n",
    "            y_valid.append(y_cat)\n",
    "            \n",
    "            val_size.append([width, height])\n",
    "            val_filename.append(file)"
   ]
  },
  {
   "cell_type": "code",
   "execution_count": 15,
   "metadata": {},
   "outputs": [],
   "source": [
    "X_valid = np.asarray(X_valid)\n",
    "y_valid = np.asarray(y_valid)"
   ]
  },
  {
   "cell_type": "code",
   "execution_count": 16,
   "metadata": {},
   "outputs": [
    {
     "name": "stdout",
     "output_type": "stream",
     "text": [
      "(752, 224, 224, 3)\n",
      "(752, 8)\n",
      "[[1280, 720], [1280, 750], [1280, 974], [1280, 720], [1280, 720]]\n",
      "['img_00806.jpg', 'img_07624.jpg', 'img_03372.jpg', 'img_04825.jpg', 'img_02075.jpg']\n"
     ]
    }
   ],
   "source": [
    "print(X_valid.shape)\n",
    "print(y_valid.shape)\n",
    "print(val_size[0:5])\n",
    "print(val_filename[0:5])"
   ]
  },
  {
   "cell_type": "code",
   "execution_count": 17,
   "metadata": {},
   "outputs": [
    {
     "data": {
      "text/plain": [
       "array([ 1.,  0.,  0.,  0.,  0.,  0.,  0.,  0.])"
      ]
     },
     "execution_count": 17,
     "metadata": {},
     "output_type": "execute_result"
    }
   ],
   "source": [
    "y_valid[0]"
   ]
  },
  {
   "cell_type": "markdown",
   "metadata": {},
   "source": [
    "# BB"
   ]
  },
  {
   "cell_type": "code",
   "execution_count": 18,
   "metadata": {},
   "outputs": [],
   "source": [
    "import ujson as json"
   ]
  },
  {
   "cell_type": "code",
   "execution_count": 19,
   "metadata": {},
   "outputs": [],
   "source": [
    "anno_classes = ['alb', 'bet', 'dol', 'lag', 'other', 'shark', 'yft']"
   ]
  },
  {
   "cell_type": "code",
   "execution_count": 20,
   "metadata": {},
   "outputs": [],
   "source": [
    "bb_json = {}\n",
    "\n",
    "for c in anno_classes:\n",
    "    j = json.load(open('{}annos/{}_labels.json'.format(path, c), 'r'))\n",
    "    \n",
    "    for l in j:\n",
    "        if 'annotations' in l.keys() and len(l['annotations']) > 0:\n",
    "            bb_json[l['filename']] = l['annotations'][-1]"
   ]
  },
  {
   "cell_type": "code",
   "execution_count": 21,
   "metadata": {},
   "outputs": [
    {
     "data": {
      "text/plain": [
       "{'class': 'rect',\n",
       " 'height': 127.00000000000045,\n",
       " 'width': 121.00000000000045,\n",
       " 'x': 636.0000000000023,\n",
       " 'y': 353.00000000000125}"
      ]
     },
     "execution_count": 21,
     "metadata": {},
     "output_type": "execute_result"
    }
   ],
   "source": [
    "bb_json['img_07763.jpg']"
   ]
  },
  {
   "cell_type": "code",
   "execution_count": 22,
   "metadata": {},
   "outputs": [],
   "source": [
    "empty_bbox = {'height': 0., 'width': 0., 'x': 0., 'y': 0.}"
   ]
  },
  {
   "cell_type": "code",
   "execution_count": 23,
   "metadata": {},
   "outputs": [],
   "source": [
    "for f in trn_filename:\n",
    "    if not f in bb_json.keys(): bb_json[f] = empty_bbox\n",
    "for f in val_filename:\n",
    "    if not f in bb_json.keys(): bb_json[f] = empty_bbox"
   ]
  },
  {
   "cell_type": "code",
   "execution_count": 24,
   "metadata": {},
   "outputs": [],
   "source": [
    "trn_resize_dim = []\n",
    "val_resize_dim = []"
   ]
  },
  {
   "cell_type": "code",
   "execution_count": 25,
   "metadata": {},
   "outputs": [],
   "source": [
    "def convert_bb(img, width, height):\n",
    "    bb = []\n",
    "    conv_x = (224. / width)\n",
    "    conv_y = (224. / height)\n",
    "    bb.append(bb_json[img]['height'] * conv_y)\n",
    "    bb.append(bb_json[img]['width'] * conv_x)\n",
    "    bb.append(max(bb_json[img]['x'] * conv_x, 0))\n",
    "    bb.append(max(bb_json[img]['y'] * conv_y, 0))\n",
    "    return bb"
   ]
  },
  {
   "cell_type": "code",
   "execution_count": 26,
   "metadata": {},
   "outputs": [
    {
     "data": {
      "text/plain": [
       "4982"
      ]
     },
     "execution_count": 26,
     "metadata": {},
     "output_type": "execute_result"
    }
   ],
   "source": [
    "len(bb_json.keys())"
   ]
  },
  {
   "cell_type": "code",
   "execution_count": 27,
   "metadata": {},
   "outputs": [],
   "source": [
    "trn_bbox = []\n",
    "val_bbox = []"
   ]
  },
  {
   "cell_type": "code",
   "execution_count": 28,
   "metadata": {},
   "outputs": [],
   "source": [
    "for i in range(len(trn_filename)):\n",
    "    trn_bbox.append(convert_bb(trn_filename[i], trn_size[i][0], trn_size[i][1]))"
   ]
  },
  {
   "cell_type": "code",
   "execution_count": 29,
   "metadata": {},
   "outputs": [],
   "source": [
    "for i in range(len(val_filename)):\n",
    "    val_bbox.append(convert_bb(val_filename[i], val_size[i][0], val_size[i][1]))"
   ]
  },
  {
   "cell_type": "code",
   "execution_count": 30,
   "metadata": {},
   "outputs": [],
   "source": [
    "trn_bbox = np.asarray(trn_bbox)\n",
    "val_bbox = np.asarray(val_bbox)"
   ]
  },
  {
   "cell_type": "code",
   "execution_count": 31,
   "metadata": {},
   "outputs": [
    {
     "name": "stdout",
     "output_type": "stream",
     "text": [
      "[ 34.95296  47.12925  60.94725  73.27488]\n",
      "[ 32.42710472  53.025       94.5         88.08213552]\n"
     ]
    }
   ],
   "source": [
    "print(trn_bbox[-1200])\n",
    "print(val_bbox[-600])"
   ]
  },
  {
   "cell_type": "markdown",
   "metadata": {},
   "source": [
    "# NN"
   ]
  },
  {
   "cell_type": "code",
   "execution_count": 32,
   "metadata": {},
   "outputs": [],
   "source": [
    "input_img = Input(shape=(224, 224, 3))\n",
    "\n",
    "x = Conv2D(32, (3, 3), padding = 'same', activation = 'relu')(input_img)\n",
    "x = Conv2D(32, (3, 3), padding = 'same', activation = 'relu')(x)\n",
    "x = MaxPooling2D((2, 2))(x)\n",
    "\n",
    "x = Conv2D(64, (3, 3), padding = 'same', activation = 'relu')(x)\n",
    "x = Conv2D(64, (3, 3), padding = 'same', activation = 'relu')(x)\n",
    "x = MaxPooling2D((2, 2))(x)\n",
    "\n",
    "x = Flatten()(x)\n",
    "x = Dense(512, activation = 'relu')(x)\n",
    "x = Dense(512, activation = 'relu')(x)\n",
    "\n",
    "x_bb = Dense(4, name='bb')(x)\n",
    "x_class = Dense(8, activation='softmax', name='class')(x)\n",
    "\n",
    "model = Model([input_img], [x_bb, x_class])\n",
    "model.compile(Adam(lr=0.001), loss=['mse', 'categorical_crossentropy'], metrics=['accuracy'],\n",
    "             loss_weights=[.001, 1.])"
   ]
  },
  {
   "cell_type": "code",
   "execution_count": 33,
   "metadata": {
    "collapsed": true
   },
   "outputs": [
    {
     "name": "stdout",
     "output_type": "stream",
     "text": [
      "__________________________________________________________________________________________________\n",
      "Layer (type)                    Output Shape         Param #     Connected to                     \n",
      "==================================================================================================\n",
      "input_1 (InputLayer)            (None, 224, 224, 3)  0                                            \n",
      "__________________________________________________________________________________________________\n",
      "conv2d_1 (Conv2D)               (None, 224, 224, 32) 896         input_1[0][0]                    \n",
      "__________________________________________________________________________________________________\n",
      "conv2d_2 (Conv2D)               (None, 224, 224, 32) 9248        conv2d_1[0][0]                   \n",
      "__________________________________________________________________________________________________\n",
      "max_pooling2d_1 (MaxPooling2D)  (None, 112, 112, 32) 0           conv2d_2[0][0]                   \n",
      "__________________________________________________________________________________________________\n",
      "conv2d_3 (Conv2D)               (None, 112, 112, 64) 18496       max_pooling2d_1[0][0]            \n",
      "__________________________________________________________________________________________________\n",
      "conv2d_4 (Conv2D)               (None, 112, 112, 64) 36928       conv2d_3[0][0]                   \n",
      "__________________________________________________________________________________________________\n",
      "max_pooling2d_2 (MaxPooling2D)  (None, 56, 56, 64)   0           conv2d_4[0][0]                   \n",
      "__________________________________________________________________________________________________\n",
      "flatten_1 (Flatten)             (None, 200704)       0           max_pooling2d_2[0][0]            \n",
      "__________________________________________________________________________________________________\n",
      "dense_1 (Dense)                 (None, 512)          102760960   flatten_1[0][0]                  \n",
      "__________________________________________________________________________________________________\n",
      "dense_2 (Dense)                 (None, 512)          262656      dense_1[0][0]                    \n",
      "__________________________________________________________________________________________________\n",
      "bb (Dense)                      (None, 4)            2052        dense_2[0][0]                    \n",
      "__________________________________________________________________________________________________\n",
      "class (Dense)                   (None, 8)            4104        dense_2[0][0]                    \n",
      "==================================================================================================\n",
      "Total params: 103,095,340\n",
      "Trainable params: 103,095,340\n",
      "Non-trainable params: 0\n",
      "__________________________________________________________________________________________________\n"
     ]
    }
   ],
   "source": [
    "model.summary()"
   ]
  },
  {
   "cell_type": "code",
   "execution_count": 34,
   "metadata": {
    "scrolled": false
   },
   "outputs": [
    {
     "name": "stdout",
     "output_type": "stream",
     "text": [
      "Train on 3025 samples, validate on 752 samples\n",
      "Epoch 1/10\n",
      "3025/3025 [==============================] - 44s 14ms/step - loss: 19.8723 - bb_loss: 16929.7443 - class_loss: 2.9425 - bb_acc: 0.2936 - class_acc: 0.5200 - val_loss: 2.8174 - val_bb_loss: 1683.2037 - val_class_loss: 1.1342 - val_bb_acc: 0.3657 - val_class_acc: 0.5492\n",
      "Epoch 2/10\n",
      "3025/3025 [==============================] - 39s 13ms/step - loss: 1.8945 - bb_loss: 1285.1528 - class_loss: 0.6094 - bb_acc: 0.3898 - class_acc: 0.8321 - val_loss: 1.6957 - val_bb_loss: 982.7868 - val_class_loss: 0.7129 - val_bb_acc: 0.4016 - val_class_acc: 0.8378\n",
      "Epoch 3/10\n",
      "3025/3025 [==============================] - 39s 13ms/step - loss: 0.9927 - bb_loss: 767.8120 - class_loss: 0.2249 - bb_acc: 0.4317 - class_acc: 0.9412 - val_loss: 1.1554 - val_bb_loss: 689.7268 - val_class_loss: 0.4657 - val_bb_acc: 0.4362 - val_class_acc: 0.9003\n",
      "Epoch 4/10\n",
      "3025/3025 [==============================] - 39s 13ms/step - loss: 0.6485 - bb_loss: 520.3297 - class_loss: 0.1282 - bb_acc: 0.4704 - class_acc: 0.9702 - val_loss: 1.5214 - val_bb_loss: 630.9974 - val_class_loss: 0.8904 - val_bb_acc: 0.4694 - val_class_acc: 0.8298\n",
      "Epoch 5/10\n",
      "3025/3025 [==============================] - 39s 13ms/step - loss: 0.4292 - bb_loss: 354.6132 - class_loss: 0.0746 - bb_acc: 0.5081 - class_acc: 0.9835 - val_loss: 0.9245 - val_bb_loss: 508.1881 - val_class_loss: 0.4163 - val_bb_acc: 0.5199 - val_class_acc: 0.9441\n",
      "Epoch 6/10\n",
      "3025/3025 [==============================] - 39s 13ms/step - loss: 0.3375 - bb_loss: 265.0780 - class_loss: 0.0724 - bb_acc: 0.5577 - class_acc: 0.9888 - val_loss: 0.8807 - val_bb_loss: 447.1168 - val_class_loss: 0.4336 - val_bb_acc: 0.5053 - val_class_acc: 0.9375\n",
      "Epoch 7/10\n",
      "3025/3025 [==============================] - 39s 13ms/step - loss: 0.3574 - bb_loss: 238.5299 - class_loss: 0.1189 - bb_acc: 0.5640 - class_acc: 0.9828 - val_loss: 1.2322 - val_bb_loss: 578.6645 - val_class_loss: 0.6536 - val_bb_acc: 0.5199 - val_class_acc: 0.9189\n",
      "Epoch 8/10\n",
      "3025/3025 [==============================] - 39s 13ms/step - loss: 0.3582 - bb_loss: 252.2338 - class_loss: 0.1060 - bb_acc: 0.5785 - class_acc: 0.9805 - val_loss: 1.0312 - val_bb_loss: 469.8841 - val_class_loss: 0.5613 - val_bb_acc: 0.5718 - val_class_acc: 0.9269\n",
      "Epoch 9/10\n",
      "3025/3025 [==============================] - 39s 13ms/step - loss: 0.2783 - bb_loss: 181.9712 - class_loss: 0.0963 - bb_acc: 0.5921 - class_acc: 0.9874 - val_loss: 0.8706 - val_bb_loss: 429.3635 - val_class_loss: 0.4412 - val_bb_acc: 0.5452 - val_class_acc: 0.9455\n",
      "Epoch 10/10\n",
      "3025/3025 [==============================] - 39s 13ms/step - loss: 0.1493 - bb_loss: 127.3596 - class_loss: 0.0220 - bb_acc: 0.6060 - class_acc: 0.9977 - val_loss: 0.8349 - val_bb_loss: 400.7835 - val_class_loss: 0.4341 - val_bb_acc: 0.5598 - val_class_acc: 0.9508\n"
     ]
    },
    {
     "data": {
      "text/plain": [
       "<keras.callbacks.History at 0x7f426409a160>"
      ]
     },
     "execution_count": 34,
     "metadata": {},
     "output_type": "execute_result"
    }
   ],
   "source": [
    "model.fit(X_train, [trn_bbox, y_train], batch_size=batch_size, epochs=10, \n",
    "             validation_data=(X_valid, [val_bbox, y_valid]))"
   ]
  },
  {
   "cell_type": "code",
   "execution_count": null,
   "metadata": {},
   "outputs": [],
   "source": []
  }
 ],
 "metadata": {
  "kernelspec": {
   "display_name": "Python 3",
   "language": "python",
   "name": "python3"
  },
  "language_info": {
   "codemirror_mode": {
    "name": "ipython",
    "version": 3
   },
   "file_extension": ".py",
   "mimetype": "text/x-python",
   "name": "python",
   "nbconvert_exporter": "python",
   "pygments_lexer": "ipython3",
   "version": "3.5.2"
  }
 },
 "nbformat": 4,
 "nbformat_minor": 2
}
