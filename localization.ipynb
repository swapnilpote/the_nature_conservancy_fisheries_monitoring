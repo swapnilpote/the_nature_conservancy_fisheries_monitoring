{
 "cells": [
  {
   "cell_type": "code",
   "execution_count": 1,
   "metadata": {},
   "outputs": [],
   "source": [
    "from __future__ import print_function, division\n",
    "\n",
    "import numpy as np\n",
    "import pandas as pd\n",
    "import json, os, csv, shutil\n",
    "from glob import glob\n",
    "import matplotlib.pyplot as plt"
   ]
  },
  {
   "cell_type": "code",
   "execution_count": 2,
   "metadata": {},
   "outputs": [
    {
     "name": "stderr",
     "output_type": "stream",
     "text": [
      "/Users/swapnilpote/.virtualenvs/py3/lib/python3.6/site-packages/h5py/__init__.py:36: FutureWarning: Conversion of the second argument of issubdtype from `float` to `np.floating` is deprecated. In future, it will be treated as `np.float64 == np.dtype(float).type`.\n",
      "  from ._conv import register_converters as _register_converters\n",
      "Using TensorFlow backend.\n",
      "/Users/swapnilpote/.virtualenvs/py3/lib/python3.6/importlib/_bootstrap.py:219: RuntimeWarning: compiletime version 3.5 of module 'tensorflow.python.framework.fast_tensor_util' does not match runtime version 3.6\n",
      "  return f(*args, **kwds)\n"
     ]
    }
   ],
   "source": [
    "import keras\n",
    "from keras.models import Sequential, Model\n",
    "from keras.layers import Conv2D, MaxPooling2D\n",
    "from keras.layers import Dense, Dropout, Lambda, Activation, Flatten, Input\n",
    "from keras.preprocessing.image import ImageDataGenerator\n",
    "from keras.optimizers import Adam, RMSprop, SGD\n",
    "from keras.utils import np_utils\n",
    "\n",
    "import h5py\n",
    "import cv2\n",
    "import PIL\n",
    "from PIL import Image"
   ]
  },
  {
   "cell_type": "code",
   "execution_count": 3,
   "metadata": {},
   "outputs": [],
   "source": [
    "path = 'data/'"
   ]
  },
  {
   "cell_type": "code",
   "execution_count": 4,
   "metadata": {},
   "outputs": [],
   "source": [
    "batch_size = 32"
   ]
  },
  {
   "cell_type": "markdown",
   "metadata": {},
   "source": [
    "# Data preprocessing"
   ]
  },
  {
   "cell_type": "code",
   "execution_count": 5,
   "metadata": {},
   "outputs": [
    {
     "data": {
      "text/plain": [
       "['NoF', 'OTHER', 'ALB', 'DOL', 'BET', 'LAG', 'YFT', 'SHARK']"
      ]
     },
     "execution_count": 5,
     "metadata": {},
     "output_type": "execute_result"
    }
   ],
   "source": [
    "dir_names = os.listdir(os.path.join(path, 'train/'))\n",
    "dir_names"
   ]
  },
  {
   "cell_type": "code",
   "execution_count": 6,
   "metadata": {},
   "outputs": [],
   "source": [
    "dir_dict = {}\n",
    "\n",
    "for i in range(len(dir_names)):\n",
    "    dir_dict[dir_names[i]] = i"
   ]
  },
  {
   "cell_type": "code",
   "execution_count": 7,
   "metadata": {},
   "outputs": [
    {
     "data": {
      "text/plain": [
       "{'ALB': 2,\n",
       " 'BET': 4,\n",
       " 'DOL': 3,\n",
       " 'LAG': 5,\n",
       " 'NoF': 0,\n",
       " 'OTHER': 1,\n",
       " 'SHARK': 7,\n",
       " 'YFT': 6}"
      ]
     },
     "execution_count": 7,
     "metadata": {},
     "output_type": "execute_result"
    }
   ],
   "source": [
    "dir_dict"
   ]
  },
  {
   "cell_type": "code",
   "execution_count": 8,
   "metadata": {},
   "outputs": [],
   "source": [
    "X_train = []\n",
    "y_train = []\n",
    "trn_size = []\n",
    "trn_filename = []"
   ]
  },
  {
   "cell_type": "code",
   "execution_count": null,
   "metadata": {},
   "outputs": [],
   "source": [
    "for folder in os.listdir(path + 'train/'):\n",
    "    for file in os.listdir(path + 'train/' + folder + '/'):\n",
    "        if os.path.isfile(path + 'train/' + folder + '/' + file):\n",
    "            \n",
    "            input_img = cv2.imread(path + 'train/' + folder + '/' + file)\n",
    "            height, width, channel = input_img.shape\n",
    "            input_img = cv2.resize(input_img, (224, 224))\n",
    "            X_train.append(input_img)\n",
    "            \n",
    "            y_cat = np_utils.to_categorical(dir_dict[folder], 8) # 8 represent number of class\n",
    "            y_train.append(y_cat)\n",
    "            \n",
    "            trn_size.append([width, height])\n",
    "            trn_filename.append(file)"
   ]
  },
  {
   "cell_type": "code",
   "execution_count": null,
   "metadata": {},
   "outputs": [],
   "source": [
    "X_train = np.asarray(X_train)\n",
    "y_train = np.asarray(y_train)"
   ]
  },
  {
   "cell_type": "code",
   "execution_count": null,
   "metadata": {},
   "outputs": [],
   "source": [
    "print(X_train.shape)\n",
    "print(y_train.shape)\n",
    "print(trn_size[0:5])\n",
    "print(trn_filename[0:5])"
   ]
  },
  {
   "cell_type": "code",
   "execution_count": null,
   "metadata": {},
   "outputs": [],
   "source": [
    "y_train[466]"
   ]
  },
  {
   "cell_type": "code",
   "execution_count": null,
   "metadata": {},
   "outputs": [],
   "source": [
    "X_valid = []\n",
    "y_valid = []\n",
    "val_size = []\n",
    "val_filename = []"
   ]
  },
  {
   "cell_type": "code",
   "execution_count": null,
   "metadata": {},
   "outputs": [],
   "source": [
    "for folder in os.listdir(path + 'valid/'):\n",
    "    for file in os.listdir(path + 'valid/' + folder + '/'):\n",
    "        if os.path.isfile(path + 'valid/' + folder + '/' + file):\n",
    "            \n",
    "            input_img = cv2.imread(path + 'valid/' + folder + '/' + file)\n",
    "            height, width, channel = input_img.shape\n",
    "            input_img = cv2.resize(input_img, (224, 224))\n",
    "            X_valid.append(input_img)\n",
    "            \n",
    "            y_cat = np_utils.to_categorical(dir_dict[folder], 8) # 8 represent number of class\n",
    "            y_valid.append(y_cat)\n",
    "            \n",
    "            val_size.append([width, height])\n",
    "            val_filename.append(file)"
   ]
  },
  {
   "cell_type": "code",
   "execution_count": null,
   "metadata": {},
   "outputs": [],
   "source": [
    "X_valid = np.asarray(X_valid)\n",
    "y_valid = np.asarray(y_valid)"
   ]
  },
  {
   "cell_type": "code",
   "execution_count": null,
   "metadata": {},
   "outputs": [],
   "source": [
    "print(X_valid.shape)\n",
    "print(y_valid.shape)\n",
    "print(val_size[0:5])\n",
    "print(val_filename[0:5])"
   ]
  },
  {
   "cell_type": "code",
   "execution_count": null,
   "metadata": {},
   "outputs": [],
   "source": [
    "y_valid[0]"
   ]
  },
  {
   "cell_type": "markdown",
   "metadata": {},
   "source": [
    "# BB"
   ]
  },
  {
   "cell_type": "code",
   "execution_count": null,
   "metadata": {},
   "outputs": [],
   "source": [
    "import ujson as json"
   ]
  },
  {
   "cell_type": "code",
   "execution_count": null,
   "metadata": {},
   "outputs": [],
   "source": [
    "anno_classes = ['alb', 'bet', 'dol', 'lag', 'other', 'shark', 'yft']"
   ]
  },
  {
   "cell_type": "code",
   "execution_count": null,
   "metadata": {},
   "outputs": [],
   "source": [
    "bb_json = {}\n",
    "\n",
    "for c in anno_classes:\n",
    "    j = json.load(open('{}annos/{}_labels.json'.format(path, c), 'r'))\n",
    "    \n",
    "    for l in j:\n",
    "        if 'annotations' in l.keys() and len(l['annotations']) > 0:\n",
    "            bb_json[l['filename']] = l['annotations'][-1]"
   ]
  },
  {
   "cell_type": "code",
   "execution_count": null,
   "metadata": {},
   "outputs": [],
   "source": [
    "bb_json['img_07763.jpg']"
   ]
  },
  {
   "cell_type": "code",
   "execution_count": null,
   "metadata": {},
   "outputs": [],
   "source": [
    "empty_bbox = {'height': 0., 'width': 0., 'x': 0., 'y': 0.}"
   ]
  },
  {
   "cell_type": "code",
   "execution_count": null,
   "metadata": {},
   "outputs": [],
   "source": [
    "for f in trn_filename:\n",
    "    if not f in bb_json.keys(): bb_json[f] = empty_bbox\n",
    "for f in val_filename:\n",
    "    if not f in bb_json.keys(): bb_json[f] = empty_bbox"
   ]
  },
  {
   "cell_type": "code",
   "execution_count": null,
   "metadata": {},
   "outputs": [],
   "source": [
    "trn_resize_dim = []\n",
    "val_resize_dim = []"
   ]
  },
  {
   "cell_type": "code",
   "execution_count": null,
   "metadata": {},
   "outputs": [],
   "source": [
    "def convert_bb(img, width, height):\n",
    "    bb = []\n",
    "    conv_x = (224. / width)\n",
    "    conv_y = (224. / height)\n",
    "    bb.append(bb_json[img]['height'] * conv_y)\n",
    "    bb.append(bb_json[img]['width'] * conv_x)\n",
    "    bb.append(max(bb_json[img]['x'] * conv_x, 0))\n",
    "    bb.append(max(bb_json[img]['y'] * conv_y, 0))\n",
    "    return bb"
   ]
  },
  {
   "cell_type": "code",
   "execution_count": null,
   "metadata": {},
   "outputs": [],
   "source": [
    "len(bb_json.keys())"
   ]
  },
  {
   "cell_type": "code",
   "execution_count": null,
   "metadata": {},
   "outputs": [],
   "source": [
    "trn_bbox = []\n",
    "val_bbox = []"
   ]
  },
  {
   "cell_type": "code",
   "execution_count": null,
   "metadata": {},
   "outputs": [],
   "source": [
    "for i in range(len(trn_filename)):\n",
    "    trn_bbox.append(convert_bb(trn_filename[i], trn_size[i][0], trn_size[i][1]))"
   ]
  },
  {
   "cell_type": "code",
   "execution_count": null,
   "metadata": {},
   "outputs": [],
   "source": [
    "for i in range(len(val_filename)):\n",
    "    val_bbox.append(convert_bb(val_filename[i], val_size[i][0], val_size[i][1]))"
   ]
  },
  {
   "cell_type": "code",
   "execution_count": null,
   "metadata": {},
   "outputs": [],
   "source": [
    "trn_bbox = np.asarray(trn_bbox)\n",
    "val_bbox = np.asarray(val_bbox)"
   ]
  },
  {
   "cell_type": "code",
   "execution_count": null,
   "metadata": {},
   "outputs": [],
   "source": [
    "print(trn_bbox[-1200])\n",
    "print(val_bbox[-600])"
   ]
  },
  {
   "cell_type": "markdown",
   "metadata": {},
   "source": [
    "# NN"
   ]
  },
  {
   "cell_type": "code",
   "execution_count": null,
   "metadata": {},
   "outputs": [],
   "source": [
    "input_img = Input(shape=(224, 224, 3))\n",
    "\n",
    "x = Conv2D(32, (3, 3), padding = 'same', activation = 'relu')(input_img)\n",
    "# x = Conv2D(32, (3, 3), padding = 'same', activation = 'relu')(x)\n",
    "x = MaxPooling2D((2, 2))(x)\n",
    "\n",
    "x = Conv2D(64, (3, 3), padding = 'same', activation = 'relu')(x)\n",
    "# x = Conv2D(64, (3, 3), padding = 'same', activation = 'relu')(x)\n",
    "x = MaxPooling2D((2, 2))(x)\n",
    "\n",
    "x = Flatten()(x)\n",
    "x = Dense(512, activation = 'relu')(x)\n",
    "# x = Dense(512, activation = 'relu')(x)\n",
    "\n",
    "x_bb = Dense(4, name='bb')(x)\n",
    "x_class = Dense(8, activation='softmax', name='class')(x)\n",
    "\n",
    "model = Model([input_img], [x_bb, x_class])\n",
    "model.compile(Adam(lr=0.001), loss=['mse', 'categorical_crossentropy'], metrics=['accuracy'],\n",
    "             loss_weights=[.001, 1.])"
   ]
  },
  {
   "cell_type": "code",
   "execution_count": null,
   "metadata": {},
   "outputs": [],
   "source": [
    "model.summary()"
   ]
  },
  {
   "cell_type": "code",
   "execution_count": null,
   "metadata": {},
   "outputs": [],
   "source": [
    "model.fit(X_train, [trn_bbox, y_train], batch_size=batch_size, nb_epoch=3, \n",
    "             validation_data=(X_valid, [val_bbox, y_valid]))"
   ]
  },
  {
   "cell_type": "code",
   "execution_count": null,
   "metadata": {},
   "outputs": [],
   "source": []
  }
 ],
 "metadata": {
  "kernelspec": {
   "display_name": "Python 3",
   "language": "python",
   "name": "python3"
  },
  "language_info": {
   "codemirror_mode": {
    "name": "ipython",
    "version": 3
   },
   "file_extension": ".py",
   "mimetype": "text/x-python",
   "name": "python",
   "nbconvert_exporter": "python",
   "pygments_lexer": "ipython3",
   "version": "3.6.4"
  }
 },
 "nbformat": 4,
 "nbformat_minor": 2
}
